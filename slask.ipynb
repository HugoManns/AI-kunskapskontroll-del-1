{
 "cells": [
  {
   "cell_type": "markdown",
   "id": "797029f4",
   "metadata": {},
   "source": [
    "# Slask"
   ]
  },
  {
   "cell_type": "code",
   "execution_count": 1,
   "id": "f3628852",
   "metadata": {},
   "outputs": [
    {
     "name": "stdout",
     "output_type": "stream",
     "text": [
      "=== Logistic Regression Report ===\n",
      "              precision    recall  f1-score   support\n",
      "\n",
      "           0       0.91      0.85      0.88       207\n",
      "           1       0.71      0.81      0.75        93\n",
      "\n",
      "    accuracy                           0.84       300\n",
      "   macro avg       0.81      0.83      0.82       300\n",
      "weighted avg       0.85      0.84      0.84       300\n",
      "\n",
      "=== Random Forest Report ===\n",
      "              precision    recall  f1-score   support\n",
      "\n",
      "           0       0.91      0.98      0.95       207\n",
      "           1       0.95      0.80      0.87        93\n",
      "\n",
      "    accuracy                           0.92       300\n",
      "   macro avg       0.93      0.89      0.91       300\n",
      "weighted avg       0.93      0.92      0.92       300\n",
      "\n"
     ]
    }
   ],
   "source": [
    "import pandas as pd\n",
    "from sklearn.model_selection import train_test_split\n",
    "from sklearn.preprocessing import StandardScaler\n",
    "from sklearn.linear_model import LogisticRegression\n",
    "from sklearn.ensemble import RandomForestClassifier\n",
    "from sklearn.metrics import classification_report\n",
    "\n",
    "# Load CSV\n",
    "data = pd.read_csv(\"recruitment_data.csv\")\n",
    "\n",
    "# Features (X) and target (y)\n",
    "X = data.drop(\"HiringDecision\", axis=1)\n",
    "y = data[\"HiringDecision\"]\n",
    "\n",
    "# Train/test split (30% test since small dataset)\n",
    "X_train, X_test, y_train, y_test = train_test_split(\n",
    "    X, y, test_size=0.2, random_state=42, stratify=y\n",
    ")\n",
    "\n",
    "# Scale numerical features\n",
    "scaler = StandardScaler()\n",
    "X_train_scaled = scaler.fit_transform(X_train)\n",
    "X_test_scaled = scaler.transform(X_test)\n",
    "\n",
    "# Logistic Regression\n",
    "log_reg = LogisticRegression(class_weight=\"balanced\", random_state=42, max_iter=1000)\n",
    "log_reg.fit(X_train_scaled, y_train)\n",
    "y_pred_log = log_reg.predict(X_test_scaled)\n",
    "\n",
    "# Random Forest\n",
    "rf = RandomForestClassifier(\n",
    "    class_weight=\"balanced\", random_state=42, n_estimators=100\n",
    ")\n",
    "rf.fit(X_train, y_train)\n",
    "y_pred_rf = rf.predict(X_test)\n",
    "\n",
    "# Evaluation\n",
    "print(\"=== Logistic Regression Report ===\")\n",
    "print(classification_report(y_test, y_pred_log))\n",
    "\n",
    "print(\"=== Random Forest Report ===\")\n",
    "print(classification_report(y_test, y_pred_rf))\n"
   ]
  },
  {
   "cell_type": "code",
   "execution_count": null,
   "id": "65e0049f",
   "metadata": {},
   "outputs": [],
   "source": []
  }
 ],
 "metadata": {
  "kernelspec": {
   "display_name": "base",
   "language": "python",
   "name": "python3"
  },
  "language_info": {
   "codemirror_mode": {
    "name": "ipython",
    "version": 3
   },
   "file_extension": ".py",
   "mimetype": "text/x-python",
   "name": "python",
   "nbconvert_exporter": "python",
   "pygments_lexer": "ipython3",
   "version": "3.12.7"
  }
 },
 "nbformat": 4,
 "nbformat_minor": 5
}
