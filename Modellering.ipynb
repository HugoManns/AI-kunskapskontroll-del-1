{
 "cells": [
  {
   "cell_type": "markdown",
   "id": "236cf239",
   "metadata": {},
   "source": [
    "# Projekt\n"
   ]
  },
  {
   "cell_type": "markdown",
   "id": "bee87c8b",
   "metadata": {},
   "source": [
    "# PoC"
   ]
  },
  {
   "cell_type": "code",
   "execution_count": null,
   "id": "9fc4d92f",
   "metadata": {},
   "outputs": [
    {
     "name": "stdout",
     "output_type": "stream",
     "text": [
      "\n",
      "--- PoC Resultat ---\n",
      "Modellens rekommendation för den nya kandidaten är: Moderate\n"
     ]
    }
   ],
   "source": []
  },
  {
   "cell_type": "code",
   "execution_count": 43,
   "id": "f8d4d7c1",
   "metadata": {},
   "outputs": [
    {
     "name": "stdout",
     "output_type": "stream",
     "text": [
      "              precision    recall  f1-score   support\n",
      "\n",
      "  Aggressive       0.41      0.13      0.20        89\n",
      "Conservative       1.00      0.04      0.07        57\n",
      "    Moderate       0.52      0.92      0.67       154\n",
      "\n",
      "    accuracy                           0.52       300\n",
      "   macro avg       0.65      0.36      0.31       300\n",
      "weighted avg       0.58      0.52      0.42       300\n",
      "\n"
     ]
    }
   ],
   "source": [
    "from sklearn.metrics import classification_report\n",
    "\n",
    "y_pred = rfc.predict(X_test)\n",
    "print(classification_report(y_test, y_pred))"
   ]
  },
  {
   "cell_type": "code",
   "execution_count": null,
   "id": "6f57846f",
   "metadata": {},
   "outputs": [],
   "source": []
  },
  {
   "cell_type": "markdown",
   "id": "b868c126",
   "metadata": {},
   "source": [
    "# Bearbeta datan"
   ]
  },
  {
   "cell_type": "code",
   "execution_count": 48,
   "id": "cafb43a1",
   "metadata": {},
   "outputs": [],
   "source": [
    "import pandas as pd\n",
    "import numpy as np\n",
    "import matplotlib.pyplot as plt\n",
    "import seaborn as sns"
   ]
  },
  {
   "cell_type": "code",
   "execution_count": null,
   "id": "e7443ad3",
   "metadata": {},
   "outputs": [],
   "source": [
    "\n",
    "\n"
   ]
  },
  {
   "cell_type": "markdown",
   "id": "2c2421c4",
   "metadata": {},
   "source": [
    "-------------"
   ]
  },
  {
   "cell_type": "markdown",
   "id": "d3ba95af",
   "metadata": {},
   "source": [
    "# ML Modellering\n"
   ]
  },
  {
   "cell_type": "code",
   "execution_count": 3,
   "id": "b6fe8cab",
   "metadata": {},
   "outputs": [],
   "source": [
    "from sklearn.model_selection import train_test_split"
   ]
  },
  {
   "cell_type": "code",
   "execution_count": null,
   "id": "519a7cfc",
   "metadata": {},
   "outputs": [],
   "source": []
  },
  {
   "cell_type": "code",
   "execution_count": null,
   "id": "60f8fe76",
   "metadata": {},
   "outputs": [],
   "source": []
  },
  {
   "cell_type": "code",
   "execution_count": null,
   "id": "5c4e8834",
   "metadata": {},
   "outputs": [],
   "source": []
  }
 ],
 "metadata": {
  "kernelspec": {
   "display_name": "base",
   "language": "python",
   "name": "python3"
  },
  "language_info": {
   "codemirror_mode": {
    "name": "ipython",
    "version": 3
   },
   "file_extension": ".py",
   "mimetype": "text/x-python",
   "name": "python",
   "nbconvert_exporter": "python",
   "pygments_lexer": "ipython3",
   "version": "3.12.7"
  }
 },
 "nbformat": 4,
 "nbformat_minor": 5
}
