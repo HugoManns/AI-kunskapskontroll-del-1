{
 "cells": [
  {
   "cell_type": "markdown",
   "id": "236cf239",
   "metadata": {},
   "source": [
    "# Projekt\n"
   ]
  },
  {
   "cell_type": "markdown",
   "id": "b868c126",
   "metadata": {},
   "source": [
    "# Bearbeta datan"
   ]
  },
  {
   "cell_type": "code",
   "execution_count": 5,
   "id": "cafb43a1",
   "metadata": {},
   "outputs": [],
   "source": [
    "import pandas as pd\n",
    "from sklearn.model_selection import train_test_split\n",
    "from sklearn.preprocessing import OneHotEncoder, StandardScaler\n",
    "from sklearn.compose import ColumnTransformer\n",
    "from sklearn.pipeline import Pipeline\n",
    "\n",
    "# Läs in data\n",
    "data = pd.read_csv(\"stackoverflow_full.csv\")\n",
    "\n",
    "# 🎯 Målvariabel\n",
    "y = data[\"Employed\"]\n",
    "\n",
    "# 🔑 Features vi använder\n",
    "X = data.drop(columns=[\"Employed\"])\n",
    "\n",
    "# --- Steg 1: Hantera kategoriska och numeriska variabler ---\n",
    "categorical_cols = [\"Age\", \"Accessibility\", \"EdLevel\", \"Employment\", \n",
    "                    \"Gender\", \"MentalHealth\", \"MainBranch\", \"Country\"]\n",
    "\n",
    "numeric_cols = [\"YearsCode\", \"YearsCodePro\", \"PreviousSalary\", \"ComputerSkills\"]\n",
    "\n",
    "# --- Steg 2: Transformer ---\n",
    "preprocessor = ColumnTransformer(\n",
    "    transformers=[\n",
    "        (\"num\", StandardScaler(), numeric_cols),\n",
    "        (\"cat\", OneHotEncoder(handle_unknown=\"ignore\"), categorical_cols)\n",
    "    ]\n",
    ")\n",
    "\n",
    "# Dela upp i train/test\n",
    "X_train, X_test, y_train, y_test = train_test_split(\n",
    "    X, y, test_size=0.3, random_state=42, stratify=y\n",
    ")\n"
   ]
  },
  {
   "cell_type": "markdown",
   "id": "2c2421c4",
   "metadata": {},
   "source": [
    "-------------"
   ]
  },
  {
   "cell_type": "markdown",
   "id": "d3ba95af",
   "metadata": {},
   "source": [
    "# ML Modellering\n"
   ]
  },
  {
   "cell_type": "code",
   "execution_count": 6,
   "id": "b6fe8cab",
   "metadata": {},
   "outputs": [
    {
     "name": "stdout",
     "output_type": "stream",
     "text": [
      "ROC-AUC: 0.8740636966201457\n",
      "              precision    recall  f1-score   support\n",
      "\n",
      "           0       0.77      0.77      0.77     10221\n",
      "           1       0.80      0.79      0.80     11818\n",
      "\n",
      "    accuracy                           0.79     22039\n",
      "   macro avg       0.78      0.78      0.78     22039\n",
      "weighted avg       0.79      0.79      0.79     22039\n",
      "\n",
      "       Candidate  Hire_Probability\n",
      "7017       31750          1.000000\n",
      "8975       36178          1.000000\n",
      "17309      52546          1.000000\n",
      "6865       48585          1.000000\n",
      "19365      20446          0.999999\n",
      "16577      46007          0.999999\n",
      "19082      14776          0.999999\n",
      "5434       40398          0.999998\n",
      "9162       15470          0.999997\n",
      "2409       42889          0.999997\n"
     ]
    }
   ],
   "source": [
    "from sklearn.linear_model import LogisticRegression\n",
    "from sklearn.metrics import classification_report, roc_auc_score\n",
    "\n",
    "# --- Pipeline: Preprocessing + Modell ---\n",
    "clf = Pipeline(steps=[\n",
    "    (\"preprocessor\", preprocessor),\n",
    "    (\"classifier\", LogisticRegression(max_iter=1000))\n",
    "])\n",
    "\n",
    "# Träna modellen\n",
    "clf.fit(X_train, y_train)\n",
    "\n",
    "# Prediktioner\n",
    "y_pred = clf.predict(X_test)\n",
    "y_proba = clf.predict_proba(X_test)[:,1]\n",
    "\n",
    "# Utvärdering\n",
    "print(\"ROC-AUC:\", roc_auc_score(y_test, y_proba))\n",
    "print(classification_report(y_test, y_pred))\n",
    "\n",
    "# Exempel: sannolikheter för testkandidater\n",
    "proba_df = pd.DataFrame({\n",
    "    \"Candidate\": X_test.index,\n",
    "    \"Hire_Probability\": y_proba\n",
    "}).sort_values(\"Hire_Probability\", ascending=False)\n",
    "\n",
    "print(proba_df.head(10))\n"
   ]
  },
  {
   "cell_type": "code",
   "execution_count": null,
   "id": "519a7cfc",
   "metadata": {},
   "outputs": [],
   "source": []
  },
  {
   "cell_type": "code",
   "execution_count": null,
   "id": "60f8fe76",
   "metadata": {},
   "outputs": [],
   "source": []
  },
  {
   "cell_type": "code",
   "execution_count": null,
   "id": "5c4e8834",
   "metadata": {},
   "outputs": [],
   "source": []
  }
 ],
 "metadata": {
  "kernelspec": {
   "display_name": "base",
   "language": "python",
   "name": "python3"
  },
  "language_info": {
   "codemirror_mode": {
    "name": "ipython",
    "version": 3
   },
   "file_extension": ".py",
   "mimetype": "text/x-python",
   "name": "python",
   "nbconvert_exporter": "python",
   "pygments_lexer": "ipython3",
   "version": "3.12.7"
  }
 },
 "nbformat": 4,
 "nbformat_minor": 5
}
